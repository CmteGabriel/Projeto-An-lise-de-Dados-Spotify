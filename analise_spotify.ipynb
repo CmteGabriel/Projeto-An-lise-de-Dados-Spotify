{
 "cells": [
  {
   "cell_type": "markdown",
   "id": "ea833a6b-30ba-4f70-a827-dd54e84f49b7",
   "metadata": {},
   "source": [
    "# Análise De Dados do Spotify\n",
    "\n"
   ]
  },
  {
   "cell_type": "markdown",
   "id": "4e2b7c1f-3fac-445d-82ae-3f17b008ce52",
   "metadata": {
    "jp-MarkdownHeadingCollapsed": true
   },
   "source": [
    "Neste projeto, analiso um dataset encontrado no Kaggle que contém informações sobre músicas, artistas, datas de lançamento, números de reproduções em plataformas como Spotify, TikTok e YouTube, na qual estão organizados por ranking 'All Time Ranking'. A partir desse conjunto de dados, realizarei a preparação, manipulação e análise para responder a algumas questões, como:\n",
    " - Quais são os 10 artistas com mais músicas em alta no Spotify?\n",
    " - Qual artista tem mais músicas lançadas em 2024?\n",
    " - Para o artista mais relevante, compare o desempenho entre Spotify e YouTube.\n",
    "   \n",
    "Para isso, utilizarei bibliotecas como **Pandas** para manipulação de dados, **Matplotlib** e **Seaborn** para criar gráficos e auxiliar na visualização desses dados."
   ]
  },
  {
   "cell_type": "code",
   "execution_count": 1,
   "id": "448b336a-dfcd-4fc4-8909-35e81ce0147e",
   "metadata": {},
   "outputs": [],
   "source": [
    "#Importando as bibliotecas necessárias para as análises e visualições\n",
    "import pandas as pd\n",
    "import matplotlib as mtl\n",
    "import matplotlib.pyplot as plt\n",
    "import seaborn as sns"
   ]
  },
  {
   "cell_type": "code",
   "execution_count": 2,
   "id": "cf6c025e-b217-4cc8-98d0-c5acd645f25a",
   "metadata": {},
   "outputs": [],
   "source": [
    "#Carregando a base de dados\n",
    "data = pd.read_csv('projeto.csv', encoding='latin-1')"
   ]
  },
  {
   "cell_type": "code",
   "execution_count": 3,
   "id": "384399c9-766f-4ecd-aacf-2ec4fbafe3ae",
   "metadata": {},
   "outputs": [
    {
     "name": "stdout",
     "output_type": "stream",
     "text": [
      "<class 'pandas.core.frame.DataFrame'>\n",
      "RangeIndex: 4600 entries, 0 to 4599\n",
      "Data columns (total 29 columns):\n",
      " #   Column                      Non-Null Count  Dtype  \n",
      "---  ------                      --------------  -----  \n",
      " 0   Track                       4600 non-null   object \n",
      " 1   Album Name                  4600 non-null   object \n",
      " 2   Artist                      4595 non-null   object \n",
      " 3   Release Date                4600 non-null   object \n",
      " 4   ISRC                        4600 non-null   object \n",
      " 5   All Time Rank               4600 non-null   object \n",
      " 6   Track Score                 4600 non-null   float64\n",
      " 7   Spotify Streams             4487 non-null   object \n",
      " 8   Spotify Playlist Count      4530 non-null   object \n",
      " 9   Spotify Playlist Reach      4528 non-null   object \n",
      " 10  Spotify Popularity          3796 non-null   float64\n",
      " 11  YouTube Views               4292 non-null   object \n",
      " 12  YouTube Likes               4285 non-null   object \n",
      " 13  TikTok Posts                3427 non-null   object \n",
      " 14  TikTok Likes                3620 non-null   object \n",
      " 15  TikTok Views                3619 non-null   object \n",
      " 16  YouTube Playlist Reach      3591 non-null   object \n",
      " 17  Apple Music Playlist Count  4039 non-null   float64\n",
      " 18  AirPlay Spins               4102 non-null   object \n",
      " 19  SiriusXM Spins              2477 non-null   object \n",
      " 20  Deezer Playlist Count       3679 non-null   float64\n",
      " 21  Deezer Playlist Reach       3672 non-null   object \n",
      " 22  Amazon Playlist Count       3545 non-null   float64\n",
      " 23  Pandora Streams             3494 non-null   object \n",
      " 24  Pandora Track Stations      3332 non-null   object \n",
      " 25  Soundcloud Streams          1267 non-null   object \n",
      " 26  Shazam Counts               4023 non-null   object \n",
      " 27  TIDAL Popularity            0 non-null      float64\n",
      " 28  Explicit Track              4600 non-null   int64  \n",
      "dtypes: float64(6), int64(1), object(22)\n",
      "memory usage: 1.0+ MB\n"
     ]
    }
   ],
   "source": [
    "#Verificando informações sobre a base de dados\n",
    "data.info()"
   ]
  },
  {
   "cell_type": "code",
   "execution_count": 4,
   "id": "234dc286-8fdf-4248-b123-6eb4346e05f4",
   "metadata": {},
   "outputs": [
    {
     "data": {
      "text/html": [
       "<div>\n",
       "<style scoped>\n",
       "    .dataframe tbody tr th:only-of-type {\n",
       "        vertical-align: middle;\n",
       "    }\n",
       "\n",
       "    .dataframe tbody tr th {\n",
       "        vertical-align: top;\n",
       "    }\n",
       "\n",
       "    .dataframe thead th {\n",
       "        text-align: right;\n",
       "    }\n",
       "</style>\n",
       "<table border=\"1\" class=\"dataframe\">\n",
       "  <thead>\n",
       "    <tr style=\"text-align: right;\">\n",
       "      <th></th>\n",
       "      <th>Track</th>\n",
       "      <th>Album Name</th>\n",
       "      <th>Artist</th>\n",
       "      <th>Release Date</th>\n",
       "      <th>ISRC</th>\n",
       "      <th>All Time Rank</th>\n",
       "      <th>Track Score</th>\n",
       "      <th>Spotify Streams</th>\n",
       "      <th>Spotify Playlist Count</th>\n",
       "      <th>Spotify Playlist Reach</th>\n",
       "      <th>...</th>\n",
       "      <th>SiriusXM Spins</th>\n",
       "      <th>Deezer Playlist Count</th>\n",
       "      <th>Deezer Playlist Reach</th>\n",
       "      <th>Amazon Playlist Count</th>\n",
       "      <th>Pandora Streams</th>\n",
       "      <th>Pandora Track Stations</th>\n",
       "      <th>Soundcloud Streams</th>\n",
       "      <th>Shazam Counts</th>\n",
       "      <th>TIDAL Popularity</th>\n",
       "      <th>Explicit Track</th>\n",
       "    </tr>\n",
       "  </thead>\n",
       "  <tbody>\n",
       "    <tr>\n",
       "      <th>0</th>\n",
       "      <td>MILLION DOLLAR BABY</td>\n",
       "      <td>Million Dollar Baby - Single</td>\n",
       "      <td>Tommy Richman</td>\n",
       "      <td>4/26/2024</td>\n",
       "      <td>QM24S2402528</td>\n",
       "      <td>1</td>\n",
       "      <td>725.4</td>\n",
       "      <td>390,470,936</td>\n",
       "      <td>30,716</td>\n",
       "      <td>196,631,588</td>\n",
       "      <td>...</td>\n",
       "      <td>684</td>\n",
       "      <td>62.0</td>\n",
       "      <td>17,598,718</td>\n",
       "      <td>114.0</td>\n",
       "      <td>18,004,655</td>\n",
       "      <td>22,931</td>\n",
       "      <td>4,818,457</td>\n",
       "      <td>2,669,262</td>\n",
       "      <td>NaN</td>\n",
       "      <td>0</td>\n",
       "    </tr>\n",
       "    <tr>\n",
       "      <th>1</th>\n",
       "      <td>Not Like Us</td>\n",
       "      <td>Not Like Us</td>\n",
       "      <td>Kendrick Lamar</td>\n",
       "      <td>5/4/2024</td>\n",
       "      <td>USUG12400910</td>\n",
       "      <td>2</td>\n",
       "      <td>545.9</td>\n",
       "      <td>323,703,884</td>\n",
       "      <td>28,113</td>\n",
       "      <td>174,597,137</td>\n",
       "      <td>...</td>\n",
       "      <td>3</td>\n",
       "      <td>67.0</td>\n",
       "      <td>10,422,430</td>\n",
       "      <td>111.0</td>\n",
       "      <td>7,780,028</td>\n",
       "      <td>28,444</td>\n",
       "      <td>6,623,075</td>\n",
       "      <td>1,118,279</td>\n",
       "      <td>NaN</td>\n",
       "      <td>1</td>\n",
       "    </tr>\n",
       "    <tr>\n",
       "      <th>2</th>\n",
       "      <td>i like the way you kiss me</td>\n",
       "      <td>I like the way you kiss me</td>\n",
       "      <td>Artemas</td>\n",
       "      <td>3/19/2024</td>\n",
       "      <td>QZJ842400387</td>\n",
       "      <td>3</td>\n",
       "      <td>538.4</td>\n",
       "      <td>601,309,283</td>\n",
       "      <td>54,331</td>\n",
       "      <td>211,607,669</td>\n",
       "      <td>...</td>\n",
       "      <td>536</td>\n",
       "      <td>136.0</td>\n",
       "      <td>36,321,847</td>\n",
       "      <td>172.0</td>\n",
       "      <td>5,022,621</td>\n",
       "      <td>5,639</td>\n",
       "      <td>7,208,651</td>\n",
       "      <td>5,285,340</td>\n",
       "      <td>NaN</td>\n",
       "      <td>0</td>\n",
       "    </tr>\n",
       "  </tbody>\n",
       "</table>\n",
       "<p>3 rows × 29 columns</p>\n",
       "</div>"
      ],
      "text/plain": [
       "                        Track                    Album Name          Artist  \\\n",
       "0         MILLION DOLLAR BABY  Million Dollar Baby - Single   Tommy Richman   \n",
       "1                 Not Like Us                   Not Like Us  Kendrick Lamar   \n",
       "2  i like the way you kiss me    I like the way you kiss me         Artemas   \n",
       "\n",
       "  Release Date          ISRC All Time Rank  Track Score Spotify Streams  \\\n",
       "0    4/26/2024  QM24S2402528             1        725.4     390,470,936   \n",
       "1     5/4/2024  USUG12400910             2        545.9     323,703,884   \n",
       "2    3/19/2024  QZJ842400387             3        538.4     601,309,283   \n",
       "\n",
       "  Spotify Playlist Count Spotify Playlist Reach  ...  SiriusXM Spins  \\\n",
       "0                 30,716            196,631,588  ...             684   \n",
       "1                 28,113            174,597,137  ...               3   \n",
       "2                 54,331            211,607,669  ...             536   \n",
       "\n",
       "  Deezer Playlist Count Deezer Playlist Reach Amazon Playlist Count  \\\n",
       "0                  62.0            17,598,718                 114.0   \n",
       "1                  67.0            10,422,430                 111.0   \n",
       "2                 136.0            36,321,847                 172.0   \n",
       "\n",
       "  Pandora Streams Pandora Track Stations Soundcloud Streams  Shazam Counts  \\\n",
       "0      18,004,655                 22,931          4,818,457      2,669,262   \n",
       "1       7,780,028                 28,444          6,623,075      1,118,279   \n",
       "2       5,022,621                  5,639          7,208,651      5,285,340   \n",
       "\n",
       "  TIDAL Popularity Explicit Track  \n",
       "0              NaN              0  \n",
       "1              NaN              1  \n",
       "2              NaN              0  \n",
       "\n",
       "[3 rows x 29 columns]"
      ]
     },
     "execution_count": 4,
     "metadata": {},
     "output_type": "execute_result"
    }
   ],
   "source": [
    "#Visualizando o DataFrame\n",
    "data.head(3)"
   ]
  },
  {
   "cell_type": "code",
   "execution_count": 5,
   "id": "708cfbef-2b04-4a82-a779-7e336e3f1473",
   "metadata": {},
   "outputs": [
    {
     "data": {
      "text/plain": [
       "Track                            0\n",
       "Album Name                       0\n",
       "Artist                           5\n",
       "Release Date                     0\n",
       "ISRC                             0\n",
       "All Time Rank                    0\n",
       "Track Score                      0\n",
       "Spotify Streams                113\n",
       "Spotify Playlist Count          70\n",
       "Spotify Playlist Reach          72\n",
       "Spotify Popularity             804\n",
       "YouTube Views                  308\n",
       "YouTube Likes                  315\n",
       "TikTok Posts                  1173\n",
       "TikTok Likes                   980\n",
       "TikTok Views                   981\n",
       "YouTube Playlist Reach        1009\n",
       "Apple Music Playlist Count     561\n",
       "AirPlay Spins                  498\n",
       "SiriusXM Spins                2123\n",
       "Deezer Playlist Count          921\n",
       "Deezer Playlist Reach          928\n",
       "Amazon Playlist Count         1055\n",
       "Pandora Streams               1106\n",
       "Pandora Track Stations        1268\n",
       "Soundcloud Streams            3333\n",
       "Shazam Counts                  577\n",
       "TIDAL Popularity              4600\n",
       "Explicit Track                   0\n",
       "dtype: int64"
      ]
     },
     "execution_count": 5,
     "metadata": {},
     "output_type": "execute_result"
    }
   ],
   "source": [
    "#Verificando se há dados nulos\n",
    "data.isnull().sum()"
   ]
  },
  {
   "cell_type": "code",
   "execution_count": 6,
   "id": "2c553ad8-f5d7-46d5-956d-453a260f769a",
   "metadata": {},
   "outputs": [
    {
     "data": {
      "text/plain": [
       "Index(['Track', 'Album Name', 'Artist', 'Release Date', 'ISRC',\n",
       "       'All Time Rank', 'Track Score', 'Spotify Streams',\n",
       "       'Spotify Playlist Count', 'Spotify Playlist Reach',\n",
       "       'Spotify Popularity', 'YouTube Views', 'YouTube Likes', 'TikTok Posts',\n",
       "       'TikTok Likes', 'TikTok Views', 'YouTube Playlist Reach',\n",
       "       'Apple Music Playlist Count', 'AirPlay Spins', 'SiriusXM Spins',\n",
       "       'Deezer Playlist Count', 'Deezer Playlist Reach',\n",
       "       'Amazon Playlist Count', 'Pandora Streams', 'Pandora Track Stations',\n",
       "       'Soundcloud Streams', 'Shazam Counts', 'TIDAL Popularity',\n",
       "       'Explicit Track'],\n",
       "      dtype='object')"
      ]
     },
     "execution_count": 6,
     "metadata": {},
     "output_type": "execute_result"
    }
   ],
   "source": [
    "#Visualizando todas as colunas\n",
    "data.columns"
   ]
  },
  {
   "cell_type": "markdown",
   "id": "3aa7c05a-bfc1-41ea-8d0a-6c7cb8d3d26c",
   "metadata": {},
   "source": [
    "Percebemos que há dados nulos em colunas importantes para a análise, como a coluna 'Artistas', 'Spotify Streams' e 'YouTube Views'. Podemos remover essas linhas com valores nulos, ou então substituir por valores estatísticos, como a média, moda ou a mediana. Para este projeto, farei a remoção destas linhas apenas destas colunas especificamente.\n",
    "Além disso, há a presença de colunas que não são importantes para a análise, então tambem irei removê-las. Vamos criar um novo DataFrame chamado de 'new_data' com os dados já tratados para a análise.\n"
   ]
  },
  {
   "cell_type": "code",
   "execution_count": 7,
   "id": "3015e903-ae42-4dbb-8db6-4aafecd9b27f",
   "metadata": {},
   "outputs": [],
   "source": [
    "#Removendo os dados nulos\n",
    "data = data.dropna(subset=['Artist', 'Spotify Streams', 'YouTube Views'])"
   ]
  },
  {
   "cell_type": "code",
   "execution_count": 8,
   "id": "7a104a9a-f9a2-411f-a958-7ef1e1ac4849",
   "metadata": {},
   "outputs": [],
   "source": [
    "#Criando o novo DataFrame com as colunas removidas\n",
    "new_data = data.drop(['Album Name', 'ISRC', 'YouTube Playlist Reach',\n",
    "       'Apple Music Playlist Count', 'AirPlay Spins', 'SiriusXM Spins',\n",
    "       'Deezer Playlist Count', 'Deezer Playlist Reach',\n",
    "       'Amazon Playlist Count', 'Pandora Streams', 'Pandora Track Stations',\n",
    "       'Soundcloud Streams', 'Shazam Counts', 'TIDAL Popularity',\n",
    "       'Explicit Track', 'TikTok Likes', 'YouTube Likes', 'TikTok Posts', 'TikTok Views', 'Spotify Popularity', 'Spotify Playlist Reach', 'Spotify Playlist Count'], axis = 'columns')"
   ]
  },
  {
   "cell_type": "code",
   "execution_count": 9,
   "id": "34c7748f-9887-467a-a2c4-3e383c5eaadd",
   "metadata": {},
   "outputs": [
    {
     "name": "stdout",
     "output_type": "stream",
     "text": [
      "<class 'pandas.core.frame.DataFrame'>\n",
      "Index: 4218 entries, 0 to 4599\n",
      "Data columns (total 7 columns):\n",
      " #   Column           Non-Null Count  Dtype  \n",
      "---  ------           --------------  -----  \n",
      " 0   Track            4218 non-null   object \n",
      " 1   Artist           4218 non-null   object \n",
      " 2   Release Date     4218 non-null   object \n",
      " 3   All Time Rank    4218 non-null   object \n",
      " 4   Track Score      4218 non-null   float64\n",
      " 5   Spotify Streams  4218 non-null   object \n",
      " 6   YouTube Views    4218 non-null   object \n",
      "dtypes: float64(1), object(6)\n",
      "memory usage: 263.6+ KB\n"
     ]
    }
   ],
   "source": [
    "#Verificando informações do novo DataFrame\n",
    "new_data.info()"
   ]
  },
  {
   "cell_type": "code",
   "execution_count": 10,
   "id": "3d8814f9-b064-440b-b531-79bef015b4fc",
   "metadata": {},
   "outputs": [
    {
     "data": {
      "text/html": [
       "<div>\n",
       "<style scoped>\n",
       "    .dataframe tbody tr th:only-of-type {\n",
       "        vertical-align: middle;\n",
       "    }\n",
       "\n",
       "    .dataframe tbody tr th {\n",
       "        vertical-align: top;\n",
       "    }\n",
       "\n",
       "    .dataframe thead th {\n",
       "        text-align: right;\n",
       "    }\n",
       "</style>\n",
       "<table border=\"1\" class=\"dataframe\">\n",
       "  <thead>\n",
       "    <tr style=\"text-align: right;\">\n",
       "      <th></th>\n",
       "      <th>Track</th>\n",
       "      <th>Artist</th>\n",
       "      <th>Release Date</th>\n",
       "      <th>All Time Rank</th>\n",
       "      <th>Track Score</th>\n",
       "      <th>Spotify Streams</th>\n",
       "      <th>YouTube Views</th>\n",
       "    </tr>\n",
       "  </thead>\n",
       "  <tbody>\n",
       "    <tr>\n",
       "      <th>0</th>\n",
       "      <td>MILLION DOLLAR BABY</td>\n",
       "      <td>Tommy Richman</td>\n",
       "      <td>4/26/2024</td>\n",
       "      <td>1</td>\n",
       "      <td>725.4</td>\n",
       "      <td>390,470,936</td>\n",
       "      <td>84,274,754</td>\n",
       "    </tr>\n",
       "    <tr>\n",
       "      <th>1</th>\n",
       "      <td>Not Like Us</td>\n",
       "      <td>Kendrick Lamar</td>\n",
       "      <td>5/4/2024</td>\n",
       "      <td>2</td>\n",
       "      <td>545.9</td>\n",
       "      <td>323,703,884</td>\n",
       "      <td>116,347,040</td>\n",
       "    </tr>\n",
       "    <tr>\n",
       "      <th>2</th>\n",
       "      <td>i like the way you kiss me</td>\n",
       "      <td>Artemas</td>\n",
       "      <td>3/19/2024</td>\n",
       "      <td>3</td>\n",
       "      <td>538.4</td>\n",
       "      <td>601,309,283</td>\n",
       "      <td>122,599,116</td>\n",
       "    </tr>\n",
       "    <tr>\n",
       "      <th>3</th>\n",
       "      <td>Flowers</td>\n",
       "      <td>Miley Cyrus</td>\n",
       "      <td>1/12/2023</td>\n",
       "      <td>4</td>\n",
       "      <td>444.9</td>\n",
       "      <td>2,031,280,633</td>\n",
       "      <td>1,096,100,899</td>\n",
       "    </tr>\n",
       "    <tr>\n",
       "      <th>4</th>\n",
       "      <td>Houdini</td>\n",
       "      <td>Eminem</td>\n",
       "      <td>5/31/2024</td>\n",
       "      <td>5</td>\n",
       "      <td>423.3</td>\n",
       "      <td>107,034,922</td>\n",
       "      <td>77,373,957</td>\n",
       "    </tr>\n",
       "  </tbody>\n",
       "</table>\n",
       "</div>"
      ],
      "text/plain": [
       "                        Track          Artist Release Date All Time Rank  \\\n",
       "0         MILLION DOLLAR BABY   Tommy Richman    4/26/2024             1   \n",
       "1                 Not Like Us  Kendrick Lamar     5/4/2024             2   \n",
       "2  i like the way you kiss me         Artemas    3/19/2024             3   \n",
       "3                     Flowers     Miley Cyrus    1/12/2023             4   \n",
       "4                     Houdini          Eminem    5/31/2024             5   \n",
       "\n",
       "   Track Score Spotify Streams  YouTube Views  \n",
       "0        725.4     390,470,936     84,274,754  \n",
       "1        545.9     323,703,884    116,347,040  \n",
       "2        538.4     601,309,283    122,599,116  \n",
       "3        444.9   2,031,280,633  1,096,100,899  \n",
       "4        423.3     107,034,922     77,373,957  "
      ]
     },
     "execution_count": 10,
     "metadata": {},
     "output_type": "execute_result"
    }
   ],
   "source": [
    "#Visualizando o DataFrame\n",
    "new_data.head()"
   ]
  },
  {
   "cell_type": "markdown",
   "id": "0c722cce-4cf9-4880-b940-c28cafe216c0",
   "metadata": {},
   "source": [
    "Note que as colunas desnecessárias e os valores nulos foram removidos, diminuindo de 4600 resultados para 4218 linhas de resultados. Porém ainda existe algo a ser feito. Algumas colunas estão com o formato de dados errados, então precisaremos transformar os dados da coluna 'Release Date' para DateTime e os da colunas 'Spotify Streams' e 'YouTube View' para o formado Float e remover a ',' dos valores para que não haja erros futuros."
   ]
  },
  {
   "cell_type": "code",
   "execution_count": 11,
   "id": "e9afc32a-04d8-41b1-8113-1de12571a1fc",
   "metadata": {},
   "outputs": [],
   "source": [
    "#Convertendo a coluna Release Date\n",
    "new_data['Release Date'] = pd.to_datetime(new_data['Release Date'])"
   ]
  },
  {
   "cell_type": "code",
   "execution_count": 12,
   "id": "c41960d7-e2e3-4042-a99e-dc26cd34b3e6",
   "metadata": {},
   "outputs": [
    {
     "name": "stdout",
     "output_type": "stream",
     "text": [
      "<class 'pandas.core.frame.DataFrame'>\n",
      "Index: 4218 entries, 0 to 4599\n",
      "Data columns (total 7 columns):\n",
      " #   Column           Non-Null Count  Dtype         \n",
      "---  ------           --------------  -----         \n",
      " 0   Track            4218 non-null   object        \n",
      " 1   Artist           4218 non-null   object        \n",
      " 2   Release Date     4218 non-null   datetime64[ns]\n",
      " 3   All Time Rank    4218 non-null   object        \n",
      " 4   Track Score      4218 non-null   float64       \n",
      " 5   Spotify Streams  4218 non-null   object        \n",
      " 6   YouTube Views    4218 non-null   object        \n",
      "dtypes: datetime64[ns](1), float64(1), object(5)\n",
      "memory usage: 263.6+ KB\n"
     ]
    }
   ],
   "source": [
    "#Verificando se houver a conversão\n",
    "new_data.info()"
   ]
  },
  {
   "cell_type": "markdown",
   "id": "fbf49a1c-15e9-470d-be00-69a65262f9a1",
   "metadata": {},
   "source": [
    "Os dados da coluna 'Release Data' foram tranformados para o formato desejado. Agora vamos fazer a conversão das colunas restantes."
   ]
  },
  {
   "cell_type": "code",
   "execution_count": 13,
   "id": "ad903e92-73af-402b-af29-fc35e7a2d07c",
   "metadata": {},
   "outputs": [],
   "source": [
    "#Convertendo a coluna Spotify Streams\n",
    "new_data['Spotify Streams'] = new_data['Spotify Streams'].str.replace(',', '').astype(float)\n",
    "\n",
    "#Convertendo a coluna YouTube Views\n",
    "new_data['YouTube Views'] = new_data['YouTube Views'].str.replace(',', '').astype(float)"
   ]
  },
  {
   "cell_type": "code",
   "execution_count": 14,
   "id": "8bb8272d-7c96-41e1-89af-ca3917ddac80",
   "metadata": {},
   "outputs": [
    {
     "name": "stdout",
     "output_type": "stream",
     "text": [
      "<class 'pandas.core.frame.DataFrame'>\n",
      "Index: 4218 entries, 0 to 4599\n",
      "Data columns (total 7 columns):\n",
      " #   Column           Non-Null Count  Dtype         \n",
      "---  ------           --------------  -----         \n",
      " 0   Track            4218 non-null   object        \n",
      " 1   Artist           4218 non-null   object        \n",
      " 2   Release Date     4218 non-null   datetime64[ns]\n",
      " 3   All Time Rank    4218 non-null   object        \n",
      " 4   Track Score      4218 non-null   float64       \n",
      " 5   Spotify Streams  4218 non-null   float64       \n",
      " 6   YouTube Views    4218 non-null   float64       \n",
      "dtypes: datetime64[ns](1), float64(3), object(3)\n",
      "memory usage: 263.6+ KB\n"
     ]
    },
    {
     "data": {
      "text/html": [
       "<div>\n",
       "<style scoped>\n",
       "    .dataframe tbody tr th:only-of-type {\n",
       "        vertical-align: middle;\n",
       "    }\n",
       "\n",
       "    .dataframe tbody tr th {\n",
       "        vertical-align: top;\n",
       "    }\n",
       "\n",
       "    .dataframe thead th {\n",
       "        text-align: right;\n",
       "    }\n",
       "</style>\n",
       "<table border=\"1\" class=\"dataframe\">\n",
       "  <thead>\n",
       "    <tr style=\"text-align: right;\">\n",
       "      <th></th>\n",
       "      <th>Track</th>\n",
       "      <th>Artist</th>\n",
       "      <th>Release Date</th>\n",
       "      <th>All Time Rank</th>\n",
       "      <th>Track Score</th>\n",
       "      <th>Spotify Streams</th>\n",
       "      <th>YouTube Views</th>\n",
       "    </tr>\n",
       "  </thead>\n",
       "  <tbody>\n",
       "    <tr>\n",
       "      <th>0</th>\n",
       "      <td>MILLION DOLLAR BABY</td>\n",
       "      <td>Tommy Richman</td>\n",
       "      <td>2024-04-26</td>\n",
       "      <td>1</td>\n",
       "      <td>725.4</td>\n",
       "      <td>3.904709e+08</td>\n",
       "      <td>8.427475e+07</td>\n",
       "    </tr>\n",
       "    <tr>\n",
       "      <th>1</th>\n",
       "      <td>Not Like Us</td>\n",
       "      <td>Kendrick Lamar</td>\n",
       "      <td>2024-05-04</td>\n",
       "      <td>2</td>\n",
       "      <td>545.9</td>\n",
       "      <td>3.237039e+08</td>\n",
       "      <td>1.163470e+08</td>\n",
       "    </tr>\n",
       "    <tr>\n",
       "      <th>2</th>\n",
       "      <td>i like the way you kiss me</td>\n",
       "      <td>Artemas</td>\n",
       "      <td>2024-03-19</td>\n",
       "      <td>3</td>\n",
       "      <td>538.4</td>\n",
       "      <td>6.013093e+08</td>\n",
       "      <td>1.225991e+08</td>\n",
       "    </tr>\n",
       "    <tr>\n",
       "      <th>3</th>\n",
       "      <td>Flowers</td>\n",
       "      <td>Miley Cyrus</td>\n",
       "      <td>2023-01-12</td>\n",
       "      <td>4</td>\n",
       "      <td>444.9</td>\n",
       "      <td>2.031281e+09</td>\n",
       "      <td>1.096101e+09</td>\n",
       "    </tr>\n",
       "    <tr>\n",
       "      <th>4</th>\n",
       "      <td>Houdini</td>\n",
       "      <td>Eminem</td>\n",
       "      <td>2024-05-31</td>\n",
       "      <td>5</td>\n",
       "      <td>423.3</td>\n",
       "      <td>1.070349e+08</td>\n",
       "      <td>7.737396e+07</td>\n",
       "    </tr>\n",
       "  </tbody>\n",
       "</table>\n",
       "</div>"
      ],
      "text/plain": [
       "                        Track          Artist Release Date All Time Rank  \\\n",
       "0         MILLION DOLLAR BABY   Tommy Richman   2024-04-26             1   \n",
       "1                 Not Like Us  Kendrick Lamar   2024-05-04             2   \n",
       "2  i like the way you kiss me         Artemas   2024-03-19             3   \n",
       "3                     Flowers     Miley Cyrus   2023-01-12             4   \n",
       "4                     Houdini          Eminem   2024-05-31             5   \n",
       "\n",
       "   Track Score  Spotify Streams  YouTube Views  \n",
       "0        725.4     3.904709e+08   8.427475e+07  \n",
       "1        545.9     3.237039e+08   1.163470e+08  \n",
       "2        538.4     6.013093e+08   1.225991e+08  \n",
       "3        444.9     2.031281e+09   1.096101e+09  \n",
       "4        423.3     1.070349e+08   7.737396e+07  "
      ]
     },
     "execution_count": 14,
     "metadata": {},
     "output_type": "execute_result"
    }
   ],
   "source": [
    "#Verificando o DataFrame\n",
    "new_data.info()\n",
    "\n",
    "new_data.head()"
   ]
  },
  {
   "cell_type": "markdown",
   "id": "f6d6ef41-329e-4da8-a7a9-9f0d3d81455c",
   "metadata": {},
   "source": [
    "Com os dados tratados agora podemos prosseguir para responder as perguntas de negócio e criar as visualizões utilizando a biblioteca MatplotLib e Seaborn.\n",
    "\n",
    "Nota: Os valores das colunas convertidas para 'float' estão sob notação cientifica, comum no pandas para valores altos."
   ]
  },
  {
   "cell_type": "markdown",
   "id": "3250eff8-f0df-409b-b857-39a11522a989",
   "metadata": {},
   "source": [
    "### Quem são os 10 artistas com mais músicas em alta no Spotify?"
   ]
  },
  {
   "cell_type": "code",
   "execution_count": 15,
   "id": "e080060b-011e-4cb7-adf1-e94aba859f1e",
   "metadata": {},
   "outputs": [],
   "source": [
    "#Agrupando os artistas e somando as reproduções\n",
    "top_artistas = new_data['Artist'].value_counts().head(10)"
   ]
  },
  {
   "cell_type": "code",
   "execution_count": 16,
   "id": "9b36fa5f-e47c-4990-aa58-f9b77f8083e8",
   "metadata": {},
   "outputs": [
    {
     "data": {
      "text/plain": [
       "Artist\n",
       "Taylor Swift     60\n",
       "Drake            60\n",
       "Bad Bunny        59\n",
       "KAROL G          32\n",
       "Travis Scott     28\n",
       "The Weeknd       28\n",
       "Billie Eilish    26\n",
       "Ariana Grande    25\n",
       "Future           22\n",
       "Peso Pluma       21\n",
       "Name: count, dtype: int64"
      ]
     },
     "execution_count": 16,
     "metadata": {},
     "output_type": "execute_result"
    }
   ],
   "source": [
    "#Exibindo os artistas\n",
    "top_artistas.head(10)"
   ]
  },
  {
   "cell_type": "code",
   "execution_count": 34,
   "id": "476629ae-ab49-4670-9fb3-cd34b5595f51",
   "metadata": {},
   "outputs": [
    {
     "data": {
      "text/plain": [
       "<function matplotlib.pyplot.show(close=None, block=None)>"
      ]
     },
     "execution_count": 34,
     "metadata": {},
     "output_type": "execute_result"
    },
    {
     "data": {
      "image/png": "[encoded data removed]",
      "text/plain": [
       "<Figure size 640x480 with 1 Axes>"
      ]
     },
     "metadata": {},
     "output_type": "display_data"
    }
   ],
   "source": [
    "#Criando o gráfico\n",
    "x = top_artistas.index \n",
    "y = top_artistas.values\n",
    "plt.bar(x, y, color = 'skyblue')\n",
    "plt.xlabel('Artistas', fontsize=12)\n",
    "plt.ylabel('Frequência', fontsize=12)\n",
    "plt.title('Maiores Artistas', fontsize=17)\n",
    "plt.xticks(rotation=70)  # Rotaciona os rótulos do eixo x para melhor visualização\n",
    "plt.tight_layout()\n",
    "plt.show"
   ]
  },
  {
   "cell_type": "code",
   "execution_count": 18,
   "id": "cf96e6c7-1081-4a05-b4a5-e5ea05e4fc57",
   "metadata": {},
   "outputs": [
    {
     "data": {
      "text/plain": [
       "count    10.000000\n",
       "mean     36.100000\n",
       "std      16.555966\n",
       "min      21.000000\n",
       "25%      25.250000\n",
       "50%      28.000000\n",
       "75%      52.250000\n",
       "max      60.000000\n",
       "Name: count, dtype: float64"
      ]
     },
     "execution_count": 18,
     "metadata": {},
     "output_type": "execute_result"
    }
   ],
   "source": [
    "#Analise estatistica\n",
    "top_artistas.describe()"
   ]
  },
  {
   "cell_type": "code",
   "execution_count": 33,
   "id": "66e83cc0-2aef-453d-9c0e-b7290d1bdcb3",
   "metadata": {},
   "outputs": [
    {
     "name": "stdout",
     "output_type": "stream",
     "text": [
      "A mediana é: 28.0 e a moda é: 0    28\n",
      "1    60\n",
      "Name: count, dtype: int64\n"
     ]
    }
   ],
   "source": [
    "#Já sabemos a média, vamos calcular a mediana e moda\n",
    "mediana = top_artistas.median()\n",
    "moda = top_artistas.mode()\n",
    "\n",
    "print('A mediana é:', mediana, 'e a moda é:', moda)"
   ]
  },
  {
   "cell_type": "markdown",
   "id": "fa690856-d89e-458e-bf07-c338cb6a955e",
   "metadata": {},
   "source": [
    "Podemos observar que Taylor Swift e Drake estão empatados como os artistas com o maior número de músicas no ranking, enquanto os três principais artistas dominam a maior parte dos lançamentos. Segundo os dados estatísticos, a média de músicas lançadas por artista é de 36, porém este valor não é representativo, já que a maioria dos valores está concentrada nos três principais artistas. A moda e a mediana, ambas resultando em 28, refletem valores mais próximos da centralidade, representando melhor a distribuição dos dados. A média elevada pode ser explicada pela concentração de lançamentos dos três artistas no topo, fazendo com que a média resulte um valor maior do que o esperado para a maioria dos artistas. "
   ]
  },
  {
   "cell_type": "markdown",
   "id": "f69ebe36-1c5b-45cc-9d93-687f0bbeb353",
   "metadata": {},
   "source": [
    "### Qual artista tem mais músicas lançadas em 2024?"
   ]
  },
  {
   "cell_type": "code",
   "execution_count": 19,
   "id": "e0ec9c2f-4375-44b7-94cd-68de1656225d",
   "metadata": {},
   "outputs": [],
   "source": [
    "#Filtrando as músicas lançadas apenas em 2024\n",
    "artist_2024 = new_data[new_data['Release Date'].dt.year == 2024]"
   ]
  },
  {
   "cell_type": "code",
   "execution_count": 20,
   "id": "85c9116c-f82c-4f4d-856e-6449c2bda2f2",
   "metadata": {},
   "outputs": [
    {
     "data": {
      "text/html": [
       "<div>\n",
       "<style scoped>\n",
       "    .dataframe tbody tr th:only-of-type {\n",
       "        vertical-align: middle;\n",
       "    }\n",
       "\n",
       "    .dataframe tbody tr th {\n",
       "        vertical-align: top;\n",
       "    }\n",
       "\n",
       "    .dataframe thead th {\n",
       "        text-align: right;\n",
       "    }\n",
       "</style>\n",
       "<table border=\"1\" class=\"dataframe\">\n",
       "  <thead>\n",
       "    <tr style=\"text-align: right;\">\n",
       "      <th></th>\n",
       "      <th>Artist</th>\n",
       "      <th>Release Date</th>\n",
       "    </tr>\n",
       "  </thead>\n",
       "  <tbody>\n",
       "    <tr>\n",
       "      <th>0</th>\n",
       "      <td>Tommy Richman</td>\n",
       "      <td>2024-04-26</td>\n",
       "    </tr>\n",
       "    <tr>\n",
       "      <th>1</th>\n",
       "      <td>Kendrick Lamar</td>\n",
       "      <td>2024-05-04</td>\n",
       "    </tr>\n",
       "    <tr>\n",
       "      <th>2</th>\n",
       "      <td>Artemas</td>\n",
       "      <td>2024-03-19</td>\n",
       "    </tr>\n",
       "    <tr>\n",
       "      <th>4</th>\n",
       "      <td>Eminem</td>\n",
       "      <td>2024-05-31</td>\n",
       "    </tr>\n",
       "    <tr>\n",
       "      <th>6</th>\n",
       "      <td>Benson Boone</td>\n",
       "      <td>2024-01-18</td>\n",
       "    </tr>\n",
       "  </tbody>\n",
       "</table>\n",
       "</div>"
      ],
      "text/plain": [
       "           Artist Release Date\n",
       "0   Tommy Richman   2024-04-26\n",
       "1  Kendrick Lamar   2024-05-04\n",
       "2         Artemas   2024-03-19\n",
       "4          Eminem   2024-05-31\n",
       "6    Benson Boone   2024-01-18"
      ]
     },
     "execution_count": 20,
     "metadata": {},
     "output_type": "execute_result"
    }
   ],
   "source": [
    "#Exibindo as colunas 'Artist' e 'Release Date'\n",
    "maior_2024 = artist_2024[['Artist', 'Release Date']]\n",
    "maior_2024.head()"
   ]
  },
  {
   "cell_type": "code",
   "execution_count": 21,
   "id": "eea24623-3474-47b4-84de-5467ac46512e",
   "metadata": {},
   "outputs": [
    {
     "data": {
      "text/plain": [
       "Artist\n",
       "Taylor Swift    22\n",
       "Name: count, dtype: int64"
      ]
     },
     "execution_count": 21,
     "metadata": {},
     "output_type": "execute_result"
    }
   ],
   "source": [
    "#Contando os artistas com mais músicas lançadas\n",
    "artist_counts = maior_2024['Artist'].value_counts()\n",
    "artist_counts.head(1)"
   ]
  },
  {
   "cell_type": "markdown",
   "id": "c30808e2-b1f0-4e62-bf89-335192b2e53a",
   "metadata": {},
   "source": [
    "Portanto, a artista que mais teve músicas lançada no ano de 2024 é a **Taylor Swift**, com o total de **22 músicas** lançadas."
   ]
  },
  {
   "cell_type": "markdown",
   "id": "7dea85b2-6fe2-4872-9de6-57129504fafc",
   "metadata": {},
   "source": [
    "### Para o artista mais relevante, compare o desempenho entre Spotify e YouTube."
   ]
  },
  {
   "cell_type": "markdown",
   "id": "590829fb-b0af-4f36-a251-28d20f1db8fe",
   "metadata": {},
   "source": [
    "A artista mais relevante é Taylor Swift, que se destaca tanto no ranking geral de músicas lançadas quanto no ranking de músicas lançadas em 2024. Agora faremos a comparação gráfica do desempenho de algumas de suas faixas nas plataformas Spotify e YouTube. Como mostrado na análise anterior, Taylor Swift possui um total de 60 músicas, o que torna a visualização completa no gráfico bastante complexa. Portanto, para uma análise mais eficiente, vamos concentrar nas 15 músicas mais relevantes conforme o ranking do próprio dataset, facilitando a interpretação dos dados e a comparação entre as plataformas."
   ]
  },
  {
   "cell_type": "code",
   "execution_count": 22,
   "id": "1f2d54ac-60ca-4233-8961-be6dd744ee57",
   "metadata": {},
   "outputs": [],
   "source": [
    "#Filtrando apenas as músicas lançadas pela Taylor\n",
    "taylor = new_data[new_data['Artist'] == 'Taylor Swift']"
   ]
  },
  {
   "cell_type": "code",
   "execution_count": 23,
   "id": "b4ca387c-c3c4-4384-bd5b-312f83f0d7bc",
   "metadata": {},
   "outputs": [],
   "source": [
    "#Filtrando apenas as 15 primeiras\n",
    "artist_taylor = taylor.head(15)"
   ]
  },
  {
   "cell_type": "code",
   "execution_count": 29,
   "id": "bd02e4e4-1b71-4900-a12f-387fe974f6fe",
   "metadata": {},
   "outputs": [
    {
     "data": {
      "image/png": "[encoded data removed]",
      "text/plain": [
       "<Figure size 1000x600 with 1 Axes>"
      ]
     },
     "metadata": {},
     "output_type": "display_data"
    }
   ],
   "source": [
    "#Criando o gráfico\n",
    "fig, ax = plt.subplots(figsize=(10, 6))\n",
    "\n",
    "#Criando as barra com valores do Spotify e YouTube\n",
    "ax.bar(artist_taylor['Track'], artist_taylor['Spotify Streams'], width=0.4, label='Spotify', align='center', color='skyblue')\n",
    "ax.bar(artist_taylor['Track'], artist_taylor['YouTube Views'], width=0.4, label='YouTube', align='edge', color='salmon')\n",
    "\n",
    "# Colocando título e rótulos\n",
    "ax.set_title('Comparativo: Spotify vs YouTube', fontsize=16)\n",
    "ax.set_ylabel('Reproduções / Bilhão', fontsize=12)\n",
    "ax.legend()\n",
    "\n",
    "# Exibindo o gráfico\n",
    "plt.xticks(rotation=45, ha='right')  # Para girar as labels das músicas\n",
    "plt.tight_layout()  # Ajusta para não cortar as legendas\n",
    "plt.show()\n"
   ]
  },
  {
   "cell_type": "markdown",
   "id": "41cce9da-c4c9-41b6-accc-00e458c1ff79",
   "metadata": {},
   "source": [
    "Podemos observar que, na maioria das músicas analisadas, o número de reproduções no Spotify supera o do YouTube. Porém, nas poucas músicas em que o YouTube apresenta maior número de reproduções, a diferença é significativamente mais impactante em relação ao Spotify. Com base nisso, alguns insights importantes são:\n",
    "\n",
    "- O Spotify é uma plataforma voltada exclusivamente para áudio, enquanto o YouTube é voltado para o audivisual. Isso sugere que as músicas com maior número de reproduções no YouTube possuem performances audiovisuais mais cativantes, como videoclipes impactantes.\n",
    "- O público do Spotify tende a ser mais específico, composto por fãs e ouvintes frequentes da artista, criando e consumindo playslists e tendo acesso a novos lançamentos que são indicados por parte da plataforma. Já o YouTube alcança um público geral, o que pode explicar por que as músicas com alto desempenho nessa plataforma possuem um apelo mais viral, ultrapassando a bolha dos fãs e alcançando pessoas que não necessariamente acompanham a artista regularmente mas que foram cativados pela música ou pelo videoclipe."
   ]
  }
 ],
 "metadata": {
  "kernelspec": {
   "display_name": "Python 3 (ipykernel)",
   "language": "python",
   "name": "python3"
  },
  "language_info": {
   "codemirror_mode": {
    "name": "ipython",
    "version": 3
   },
   "file_extension": ".py",
   "mimetype": "text/x-python",
   "name": "python",
   "nbconvert_exporter": "python",
   "pygments_lexer": "ipython3",
   "version": "3.11.7"
  }
 },
 "nbformat": 4,
 "nbformat_minor": 5
}
